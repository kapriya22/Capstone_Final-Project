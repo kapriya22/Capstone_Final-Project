{
 "cells": [
  {
   "cell_type": "markdown",
   "metadata": {},
   "source": [
    "# Searching for Indian Restaurants in NYC"
   ]
  },
  {
   "cell_type": "markdown",
   "metadata": {},
   "source": [
    "## 1. Introduction"
   ]
  },
  {
   "cell_type": "markdown",
   "metadata": {},
   "source": [
    "### 1.1 Abstract"
   ]
  },
  {
   "cell_type": "markdown",
   "metadata": {},
   "source": [
    "New york is the most populous city in United States. NYC is dense, diversified city with eight and half million population coming from different cultures and societies. It has been described as the cultural, financial, and media capital of the world. Due of its business friendly environment, it provides lot of business opporutinites. It has been significantly influencing lot of immigirants to move to this city. Since lot of people from all around the world move there, this city serves differenet kind of cuisines. There are many cusinies on the basis of cooking style, ingredients, dishes and techniques. While visiting to new city, travellers might find it difficult to search best cuisine of their choice. In this project, I will be catering to the problem of finding Indian restaurants in NYC. Project will also help to find best Indian cuisine near them and sort them according to ratings and likes. "
   ]
  },
  {
   "cell_type": "markdown",
   "metadata": {},
   "source": [
    "### 1.2 Business Problem"
   ]
  },
  {
   "cell_type": "markdown",
   "metadata": {},
   "source": [
    "In this project , we will try to find answers of following questions for Indian Restauarnts:\n",
    "- if someone wants to open new restaurants in the city, which is the best location?\n",
    "- who are the competitors and what are their rating?\n",
    "- which area provides max no. of Indian cuisine ?\n",
    "- which restaurant is mostly liked or highly recommened?\n",
    "- where can one find the best Indian food in the nearby area?"
   ]
  },
  {
   "cell_type": "markdown",
   "metadata": {},
   "source": [
    "For this we will determine focus upon market places, competitors, population, food preferences, locality .  We will also focus upon number of restauarants present per Neighborhood as well as per Borough. This will help to understand the locality and competition already . This will also help travellers an easy apporach to find their cuisine according to the location."
   ]
  },
  {
   "cell_type": "markdown",
   "metadata": {},
   "source": [
    "## 2. Data Description"
   ]
  },
  {
   "cell_type": "markdown",
   "metadata": {},
   "source": [
    "### 2.1 Data"
   ]
  },
  {
   "cell_type": "markdown",
   "metadata": {},
   "source": [
    "For this project, data required for analysis includes information about neighborhoods, boroughs which contains latitude, longitude, restuarant details about ratings and tips. Data sources included for project include:\n",
    " - NYC data containing the neighborhoods and boroughs, latitudes, and longitudes will be obtained from the data source: https://cocl.us/new_york_dataset\n",
    " - Data related to restarauant details (location, ratings, likes) will be collected from the data source: Foursqaure"
   ]
  },
  {
   "cell_type": "markdown",
   "metadata": {},
   "source": [
    "### 2.2 How Data will be used to solve problem?"
   ]
  },
  {
   "cell_type": "markdown",
   "metadata": {},
   "source": [
    "Firstly, data will be collected to determine information abour all restauarants presnet in NYC. This includs information about location of all restauarants in 5 Borough and 306 neighborhoods of new york city. After this, data will be cleaned to give list of only Indian restauarants present in each Borough and Neighorhoods. The venues will be filtered according to their ratings and preferences. Data visualization using Folium Maps will give clear idea about the top restaurants present in the nearby area."
   ]
  },
  {
   "cell_type": "markdown",
   "metadata": {},
   "source": [
    "## 3. Methodology"
   ]
  },
  {
   "cell_type": "markdown",
   "metadata": {},
   "source": [
    "Our main goal is to get deatils of Indian Resturants in NYC for all neighorhoods and Boroughs. For this, we will follow following approach:\n",
    " - Data will be extracted from https://cocl.us/new_york_dataset, cleaned and processed into a dataframe.\n",
    " - Restuatant details will be obtained from Foursquare and filtered by Indian Restuarants. We will count tips, ratings and liked od restuarants.\n",
    " - Sort the data on the basis of ratings and locations.\n",
    " - Data will be visually represented using Folium Maps\n",
    " "
   ]
  },
  {
   "cell_type": "markdown",
   "metadata": {},
   "source": [
    "### Exploratory Data Analysis"
   ]
  },
  {
   "cell_type": "markdown",
   "metadata": {},
   "source": [
    "Lets begin the coding"
   ]
  },
  {
   "cell_type": "code",
   "execution_count": 3,
   "metadata": {},
   "outputs": [],
   "source": [
    "# import libraraies\n",
    "import pandas as pd\n",
    "import numpy as np\n",
    "import requests\n",
    "\n",
    "import folium\n",
    "\n",
    "# !conda install -c conda-forge geopy --yes \n",
    "from geopy.geocoders import Nominatim \n",
    "\n",
    "import matplotlib.pyplot as plt\n",
    "import matplotlib.cm as cm\n",
    "import matplotlib.colors as colors\n",
    "%matplotlib inline"
   ]
  },
  {
   "cell_type": "code",
   "execution_count": 17,
   "metadata": {},
   "outputs": [],
   "source": [
    "CLIENT_ID = '4G4K201OP1ZVO02JR23HKPVZU5IBMC1Q5DJQ1UQNXMD2NHZC' # Foursquare ID\n",
    "CLIENT_SECRET ='NNIPOPIUGTS2QN4M10NNIGDPGSP3U1C0ODHK2UCB5LRRBGFZ' # Foursquare Secret\n",
    "VERSION = '20180604'"
   ]
  },
  {
   "cell_type": "code",
   "execution_count": 7,
   "metadata": {},
   "outputs": [],
   "source": [
    "# Define function to extract NYC data\n",
    "def get_new_york_data():\n",
    "    url='https://cocl.us/new_york_dataset'\n",
    "    resp=requests.get(url).json()\n",
    "    features=resp['features']\n",
    "    \n",
    "    column_names = ['Borough', 'Neighborhood', 'Latitude', 'Longitude'] \n",
    "    new_york_data = pd.DataFrame(columns=column_names)\n",
    "    \n",
    "    for data in features:\n",
    "        borough = data['properties']['borough'] \n",
    "        neighborhood_name = data['properties']['name']\n",
    "        \n",
    "        neighborhood_latlon = data['geometry']['coordinates']\n",
    "        neighborhood_lat = neighborhood_latlon[1]\n",
    "        neighborhood_lon = neighborhood_latlon[0]\n",
    "    \n",
    "        new_york_data = new_york_data.append({'Borough': borough,\n",
    "                                          'Neighborhood': neighborhood_name,\n",
    "                                          'Latitude': neighborhood_lat,\n",
    "                                          'Longitude': neighborhood_lon}, ignore_index=True)\n",
    "    \n",
    "    return new_york_data"
   ]
  },
  {
   "cell_type": "code",
   "execution_count": 8,
   "metadata": {},
   "outputs": [],
   "source": [
    "ny_data = get_new_york_data()"
   ]
  },
  {
   "cell_type": "code",
   "execution_count": 9,
   "metadata": {},
   "outputs": [
    {
     "data": {
      "text/html": [
       "<div>\n",
       "<style scoped>\n",
       "    .dataframe tbody tr th:only-of-type {\n",
       "        vertical-align: middle;\n",
       "    }\n",
       "\n",
       "    .dataframe tbody tr th {\n",
       "        vertical-align: top;\n",
       "    }\n",
       "\n",
       "    .dataframe thead th {\n",
       "        text-align: right;\n",
       "    }\n",
       "</style>\n",
       "<table border=\"1\" class=\"dataframe\">\n",
       "  <thead>\n",
       "    <tr style=\"text-align: right;\">\n",
       "      <th></th>\n",
       "      <th>Borough</th>\n",
       "      <th>Neighborhood</th>\n",
       "      <th>Latitude</th>\n",
       "      <th>Longitude</th>\n",
       "    </tr>\n",
       "  </thead>\n",
       "  <tbody>\n",
       "    <tr>\n",
       "      <td>301</td>\n",
       "      <td>Manhattan</td>\n",
       "      <td>Hudson Yards</td>\n",
       "      <td>40.756658</td>\n",
       "      <td>-74.000111</td>\n",
       "    </tr>\n",
       "    <tr>\n",
       "      <td>302</td>\n",
       "      <td>Queens</td>\n",
       "      <td>Hammels</td>\n",
       "      <td>40.587338</td>\n",
       "      <td>-73.805530</td>\n",
       "    </tr>\n",
       "    <tr>\n",
       "      <td>303</td>\n",
       "      <td>Queens</td>\n",
       "      <td>Bayswater</td>\n",
       "      <td>40.611322</td>\n",
       "      <td>-73.765968</td>\n",
       "    </tr>\n",
       "    <tr>\n",
       "      <td>304</td>\n",
       "      <td>Queens</td>\n",
       "      <td>Queensbridge</td>\n",
       "      <td>40.756091</td>\n",
       "      <td>-73.945631</td>\n",
       "    </tr>\n",
       "    <tr>\n",
       "      <td>305</td>\n",
       "      <td>Staten Island</td>\n",
       "      <td>Fox Hills</td>\n",
       "      <td>40.617311</td>\n",
       "      <td>-74.081740</td>\n",
       "    </tr>\n",
       "  </tbody>\n",
       "</table>\n",
       "</div>"
      ],
      "text/plain": [
       "           Borough  Neighborhood   Latitude  Longitude\n",
       "301      Manhattan  Hudson Yards  40.756658 -74.000111\n",
       "302         Queens       Hammels  40.587338 -73.805530\n",
       "303         Queens     Bayswater  40.611322 -73.765968\n",
       "304         Queens  Queensbridge  40.756091 -73.945631\n",
       "305  Staten Island     Fox Hills  40.617311 -74.081740"
      ]
     },
     "execution_count": 9,
     "metadata": {},
     "output_type": "execute_result"
    }
   ],
   "source": [
    "ny_data.tail()"
   ]
  },
  {
   "cell_type": "code",
   "execution_count": 10,
   "metadata": {},
   "outputs": [
    {
     "data": {
      "text/plain": [
       "(306, 4)"
      ]
     },
     "execution_count": 10,
     "metadata": {},
     "output_type": "execute_result"
    }
   ],
   "source": [
    "ny_data.shape"
   ]
  },
  {
   "cell_type": "markdown",
   "metadata": {},
   "source": [
    "#### Analysing restaurants in the neighborhood"
   ]
  },
  {
   "cell_type": "code",
   "execution_count": 11,
   "metadata": {},
   "outputs": [
    {
     "data": {
      "image/png": "[encoded data removed]",
      "text/plain": [
       "<Figure size 720x360 with 1 Axes>"
      ]
     },
     "metadata": {
      "needs_background": "light"
     },
     "output_type": "display_data"
    }
   ],
   "source": [
    "ny_data.groupby('Borough')['Neighborhood'].count().plot.bar(figsize=(10,5))\n",
    "plt.title('Restaurants per Borough in New York', fontsize = 20)\n",
    "plt.xlabel('Borough', fontsize = 15)\n",
    "plt.ylabel('Restauarnts',fontsize = 15)\n",
    "plt.xticks(rotation = 'horizontal')\n",
    "plt.show()"
   ]
  },
  {
   "cell_type": "markdown",
   "metadata": {},
   "source": [
    "In the above graph, we can see that maximum number of restauants per Borough are in the Queens, followed by those in Brooklyn. "
   ]
  },
  {
   "cell_type": "code",
   "execution_count": 13,
   "metadata": {},
   "outputs": [],
   "source": [
    "#defining functions to determine location\n",
    "def geo_location(address):\n",
    "    geolocator = Nominatim(user_agent=\"ny_explorer\")\n",
    "    location = geolocator.geocode(address)\n",
    "    latitude = location.latitude\n",
    "    longitude = location.longitude\n",
    "    return latitude,longitude"
   ]
  },
  {
   "cell_type": "code",
   "execution_count": 14,
   "metadata": {},
   "outputs": [],
   "source": [
    "def get_venues(lat,lng):\n",
    "    \n",
    "    radius=1000\n",
    "    LIMIT=100\n",
    "    \n",
    "    url = 'https://api.foursquare.com/v2/venues/explore?&client_id={}&client_secret={}&v={}&ll={},{}&radius={}&limit={}'.format(\n",
    "            CLIENT_ID, \n",
    "            CLIENT_SECRET, \n",
    "            VERSION, \n",
    "            lat, \n",
    "            lng, \n",
    "            radius, \n",
    "            LIMIT)\n",
    "    \n",
    "    results = requests.get(url).json()\n",
    "    venue_data=results[\"response\"]['groups'][0]['items']\n",
    "    venue_details=[]\n",
    "    for row in venue_data:\n",
    "        try:\n",
    "            venue_id=row['venue']['id']\n",
    "            venue_name=row['venue']['name']\n",
    "            venue_category=row['venue']['categories'][0]['name']\n",
    "            venue_details.append([venue_id,venue_name,venue_category])\n",
    "        except KeyError:\n",
    "            pass\n",
    "        \n",
    "    column_names=['ID','Name','Category']\n",
    "    df = pd.DataFrame(venue_details,columns=column_names)\n",
    "    return df\n",
    "\n",
    "def get_venue_details(venue_id):\n",
    "        \n",
    "    url = 'https://api.foursquare.com/v2/venues/{}?&client_id={}&client_secret={}&v={}'.format(\n",
    "            venue_id,\n",
    "            CLIENT_ID, \n",
    "            CLIENT_SECRET, \n",
    "            VERSION)\n",
    "\n",
    "    results = requests.get(url).json()\n",
    "    venue_data=results['response']['venue']\n",
    "    venue_details=[]\n",
    "    try:\n",
    "        venue_id=venue_data['id']\n",
    "        venue_name=venue_data['name']\n",
    "        venue_likes=venue_data['likes']['count']\n",
    "        venue_rating=venue_data['rating']\n",
    "        venue_tips=venue_data['tips']['count']\n",
    "        venue_details.append([venue_id,venue_name,venue_likes,venue_rating,venue_tips])\n",
    "    except KeyError:\n",
    "        pass\n",
    "        \n",
    "    column_names=['ID','Name','Likes','Rating','Tips']\n",
    "    df = pd.DataFrame(venue_details,columns=column_names)\n",
    "    return df"
   ]
  },
  {
   "cell_type": "markdown",
   "metadata": {},
   "source": [
    "### Lets prepare neighorhood list of Indian Restuarants in NYC"
   ]
  },
  {
   "cell_type": "code",
   "execution_count": 18,
   "metadata": {},
   "outputs": [
    {
     "name": "stdout",
     "output_type": "stream",
     "text": [
      "List of Indian restaurants in NYC \n",
      "---------------------\n",
      "Woodlawn, Bronx : 1\n",
      "Parkchester, Bronx : 2\n",
      "Spuyten Duyvil, Bronx : 1\n",
      "Concourse, Bronx : 1\n",
      "Unionport, Bronx : 1\n",
      "Bay Ridge, Brooklyn : 2\n",
      "Brighton Beach, Brooklyn : 1\n",
      "Flatbush, Brooklyn : 2\n",
      "East Flatbush, Brooklyn : 1\n",
      "Kensington, Brooklyn : 2\n",
      "Prospect Heights, Brooklyn : 1\n",
      "Fort Greene, Brooklyn : 1\n",
      "Clinton Hill, Brooklyn : 1\n",
      "Downtown, Brooklyn : 1\n",
      "Prospect Lefferts Gardens, Brooklyn : 1\n",
      "Ocean Hill, Brooklyn : 2\n",
      "Prospect Park South, Brooklyn : 2\n",
      "South Side, Brooklyn : 1\n",
      "Fort Hamilton, Brooklyn : 1\n",
      "Washington Heights, Manhattan : 1\n",
      "Hamilton Heights, Manhattan : 2\n",
      "Manhattanville, Manhattan : 2\n",
      "Central Harlem, Manhattan : 2\n",
      "East Harlem, Manhattan : 1\n",
      "Yorkville, Manhattan : 2\n",
      "Roosevelt Island, Manhattan : 1\n",
      "Upper West Side, Manhattan : 1\n",
      "Midtown, Manhattan : 2\n",
      "Tribeca, Manhattan : 1\n",
      "West Village, Manhattan : 1\n",
      "Manhattan Valley, Manhattan : 3\n",
      "Morningside Heights, Manhattan : 1\n",
      "Gramercy, Manhattan : 6\n",
      "Astoria, Queens : 1\n",
      "Woodside, Queens : 8\n",
      "Jackson Heights, Queens : 5\n",
      "Elmhurst, Queens : 4\n",
      "Kew Gardens, Queens : 2\n",
      "Richmond Hill, Queens : 7\n",
      "Long Island City, Queens : 3\n",
      "Sunnyside, Queens : 1\n",
      "Ridgewood, Queens : 1\n",
      "Rego Park, Queens : 1\n",
      "Bayside, Queens : 3\n",
      "Glen Oaks, Queens : 4\n",
      "Bellerose, Queens : 1\n",
      "Kew Gardens Hills, Queens : 1\n",
      "Briarwood, Queens : 3\n",
      "Jamaica Center, Queens : 4\n",
      "Steinway, Queens : 1\n",
      "Floral Park, Queens : 11\n",
      "Holliswood, Queens : 1\n",
      "Jamaica Estates, Queens : 1\n",
      "Ravenswood, Queens : 1\n",
      "Bellaire, Queens : 1\n",
      "Forest Hills Gardens, Queens : 1\n",
      "New Brighton, Staten Island : 1\n",
      "New Dorp, Staten Island : 2\n",
      "Tompkinsville, Staten Island : 1\n",
      "Ditmas Park, Brooklyn : 3\n",
      "Grant City, Staten Island : 1\n",
      "Carnegie Hill, Manhattan : 1\n",
      "Civic Center, Manhattan : 1\n",
      "Jamaica Hills, Queens : 4\n",
      "Concourse Village, Bronx : 1\n",
      "Sutton Place, Manhattan : 1\n",
      "Turtle Bay, Manhattan : 1\n",
      "Sunnyside Gardens, Queens : 1\n",
      "Blissville, Queens : 1\n",
      "Broadway Junction, Brooklyn : 1\n",
      "Erasmus, Brooklyn : 1\n",
      "Queensbridge, Queens : 2\n"
     ]
    }
   ],
   "source": [
    "# prepare neighborhood list that contains indian resturants\n",
    "column_names=['Borough', 'Neighborhood', 'ID','Name']\n",
    "indian_rest_ny=pd.DataFrame(columns=column_names)\n",
    "\n",
    "print('List of Indian restaurants in NYC \\n---------------------')\n",
    "       \n",
    "for row in ny_data.values.tolist():\n",
    "    Borough, Neighborhood, Latitude, Longitude=row\n",
    "    venues = get_venues(Latitude,Longitude)\n",
    "    indian_resturants=venues[venues['Category']=='Indian Restaurant']\n",
    "    if len(indian_resturants) > 0:\n",
    "        print(Neighborhood+', '+Borough+' : '+str(len(indian_resturants)))\n",
    "    for resturant_detail in indian_resturants.values.tolist():\n",
    "        id, name , category=resturant_detail\n",
    "        indian_rest_ny = indian_rest_ny.append({'Borough': Borough,\n",
    "                                                'Neighborhood': Neighborhood, \n",
    "                                                'ID': id,\n",
    "                                                'Name' : name\n",
    "                                               }, ignore_index=True)"
   ]
  },
  {
   "cell_type": "markdown",
   "metadata": {},
   "source": [
    "Analysing how many Indian restaurants are there in the neighbourhood"
   ]
  },
  {
   "cell_type": "code",
   "execution_count": 19,
   "metadata": {},
   "outputs": [
    {
     "data": {
      "image/png": "[encoded data removed]",
      "text/plain": [
       "<Figure size 720x360 with 1 Axes>"
      ]
     },
     "metadata": {
      "needs_background": "light"
     },
     "output_type": "display_data"
    }
   ],
   "source": [
    "indian_rest_ny.groupby('Borough')['ID'].count().plot.bar(figsize=(10,5))\n",
    "plt.title('Indian Restaurants per Borough in New York', fontsize = 20)\n",
    "plt.xlabel('Borough', fontsize = 15)\n",
    "plt.ylabel('Indian Restauarnts',fontsize = 15)\n",
    "plt.xticks(rotation = 'horizontal')\n",
    "plt.show()"
   ]
  },
  {
   "cell_type": "markdown",
   "metadata": {},
   "source": [
    "As per the observations from the graph, it can be found that Queens has highest number of Indian Restuarants"
   ]
  },
  {
   "cell_type": "markdown",
   "metadata": {},
   "source": [
    "Lets analyse Top 10 neighborhoods based on the number of Indian cuisine restaurants in New York city."
   ]
  },
  {
   "cell_type": "code",
   "execution_count": 22,
   "metadata": {},
   "outputs": [
    {
     "data": {
      "image/png": "[encoded data removed]",
      "text/plain": [
       "<Figure size 1080x720 with 1 Axes>"
      ]
     },
     "metadata": {
      "needs_background": "light"
     },
     "output_type": "display_data"
    }
   ],
   "source": [
    "indian_rest_ny.groupby('Neighborhood')['ID'].count().nlargest(10).plot.bar(figsize=(15,10)) #top 10 restauarants \n",
    "plt.title('Indian restuarants per neighborhood in New York', fontsize = 20)\n",
    "plt.xlabel('Neighborhood',fontsize = 15)\n",
    "plt.ylabel('Indian Restaurants',fontsize = 15)\n",
    "plt.xticks(rotation = 'horizontal')\n",
    "plt.show()"
   ]
  },
  {
   "cell_type": "code",
   "execution_count": 23,
   "metadata": {},
   "outputs": [
    {
     "data": {
      "text/html": [
       "<div>\n",
       "<style scoped>\n",
       "    .dataframe tbody tr th:only-of-type {\n",
       "        vertical-align: middle;\n",
       "    }\n",
       "\n",
       "    .dataframe tbody tr th {\n",
       "        vertical-align: top;\n",
       "    }\n",
       "\n",
       "    .dataframe thead th {\n",
       "        text-align: right;\n",
       "    }\n",
       "</style>\n",
       "<table border=\"1\" class=\"dataframe\">\n",
       "  <thead>\n",
       "    <tr style=\"text-align: right;\">\n",
       "      <th></th>\n",
       "      <th>Borough</th>\n",
       "      <th>Neighborhood</th>\n",
       "      <th>ID</th>\n",
       "      <th>Name</th>\n",
       "    </tr>\n",
       "  </thead>\n",
       "  <tbody>\n",
       "    <tr>\n",
       "      <td>101</td>\n",
       "      <td>Queens</td>\n",
       "      <td>Floral Park</td>\n",
       "      <td>527ffc0811d2d329d5e49abd</td>\n",
       "      <td>Jackson Diner</td>\n",
       "    </tr>\n",
       "    <tr>\n",
       "      <td>102</td>\n",
       "      <td>Queens</td>\n",
       "      <td>Floral Park</td>\n",
       "      <td>4e4e3e22bd4101d0d7a5c2d1</td>\n",
       "      <td>Kerala Kitchen</td>\n",
       "    </tr>\n",
       "    <tr>\n",
       "      <td>103</td>\n",
       "      <td>Queens</td>\n",
       "      <td>Floral Park</td>\n",
       "      <td>4b647b56f964a520c4b62ae3</td>\n",
       "      <td>Usha Foods &amp; Usha Sweets</td>\n",
       "    </tr>\n",
       "    <tr>\n",
       "      <td>104</td>\n",
       "      <td>Queens</td>\n",
       "      <td>Floral Park</td>\n",
       "      <td>4b787c49f964a5209cd12ee3</td>\n",
       "      <td>Santoor Indian Restaurant</td>\n",
       "    </tr>\n",
       "    <tr>\n",
       "      <td>105</td>\n",
       "      <td>Queens</td>\n",
       "      <td>Floral Park</td>\n",
       "      <td>4c0c01e0bbc676b00d6b4cd5</td>\n",
       "      <td>Mumbai Xpress</td>\n",
       "    </tr>\n",
       "    <tr>\n",
       "      <td>106</td>\n",
       "      <td>Queens</td>\n",
       "      <td>Floral Park</td>\n",
       "      <td>4c76ff35a5676dcb72671721</td>\n",
       "      <td>Flavor Of India</td>\n",
       "    </tr>\n",
       "    <tr>\n",
       "      <td>107</td>\n",
       "      <td>Queens</td>\n",
       "      <td>Floral Park</td>\n",
       "      <td>4cc642ed306e224b5bf2a76c</td>\n",
       "      <td>Shahi Darbar</td>\n",
       "    </tr>\n",
       "    <tr>\n",
       "      <td>108</td>\n",
       "      <td>Queens</td>\n",
       "      <td>Floral Park</td>\n",
       "      <td>4df0f39dd4c04d0392c853ea</td>\n",
       "      <td>Sagar Chinese</td>\n",
       "    </tr>\n",
       "    <tr>\n",
       "      <td>109</td>\n",
       "      <td>Queens</td>\n",
       "      <td>Floral Park</td>\n",
       "      <td>51d84192498ea979a3c4f13d</td>\n",
       "      <td>Sunshine Grill &amp; Restaurant</td>\n",
       "    </tr>\n",
       "    <tr>\n",
       "      <td>110</td>\n",
       "      <td>Queens</td>\n",
       "      <td>Floral Park</td>\n",
       "      <td>4c3e17f2ca012d7f82022fbe</td>\n",
       "      <td>Mushin's Halal Food [Gyro Cart]</td>\n",
       "    </tr>\n",
       "    <tr>\n",
       "      <td>111</td>\n",
       "      <td>Queens</td>\n",
       "      <td>Floral Park</td>\n",
       "      <td>4e6bfe1c7d8b2c711b17bbe5</td>\n",
       "      <td>Surya sweets and snacks</td>\n",
       "    </tr>\n",
       "  </tbody>\n",
       "</table>\n",
       "</div>"
      ],
      "text/plain": [
       "    Borough Neighborhood                        ID  \\\n",
       "101  Queens  Floral Park  527ffc0811d2d329d5e49abd   \n",
       "102  Queens  Floral Park  4e4e3e22bd4101d0d7a5c2d1   \n",
       "103  Queens  Floral Park  4b647b56f964a520c4b62ae3   \n",
       "104  Queens  Floral Park  4b787c49f964a5209cd12ee3   \n",
       "105  Queens  Floral Park  4c0c01e0bbc676b00d6b4cd5   \n",
       "106  Queens  Floral Park  4c76ff35a5676dcb72671721   \n",
       "107  Queens  Floral Park  4cc642ed306e224b5bf2a76c   \n",
       "108  Queens  Floral Park  4df0f39dd4c04d0392c853ea   \n",
       "109  Queens  Floral Park  51d84192498ea979a3c4f13d   \n",
       "110  Queens  Floral Park  4c3e17f2ca012d7f82022fbe   \n",
       "111  Queens  Floral Park  4e6bfe1c7d8b2c711b17bbe5   \n",
       "\n",
       "                                Name  \n",
       "101                    Jackson Diner  \n",
       "102                   Kerala Kitchen  \n",
       "103         Usha Foods & Usha Sweets  \n",
       "104        Santoor Indian Restaurant  \n",
       "105                    Mumbai Xpress  \n",
       "106                  Flavor Of India  \n",
       "107                     Shahi Darbar  \n",
       "108                    Sagar Chinese  \n",
       "109      Sunshine Grill & Restaurant  \n",
       "110  Mushin's Halal Food [Gyro Cart]  \n",
       "111          Surya sweets and snacks  "
      ]
     },
     "execution_count": 23,
     "metadata": {},
     "output_type": "execute_result"
    }
   ],
   "source": [
    "indian_rest_ny[indian_rest_ny['Neighborhood']=='Floral Park']"
   ]
  },
  {
   "cell_type": "code",
   "execution_count": 24,
   "metadata": {},
   "outputs": [
    {
     "name": "stdout",
     "output_type": "stream",
     "text": [
      "                         ID        Name  Likes  Rating  Tips\n",
      "0  4c0448d9310fc9b6bf1dc761  Curry Spot      5     7.8    10\n",
      "( 1 / 140 ) processed\n",
      "                         ID                         Name  Likes  Rating  Tips\n",
      "0  4c194631838020a13e78e561  Melanies Roti Bar And Grill      3     6.0     2\n",
      "( 2 / 140 ) processed\n",
      "Empty DataFrame\n",
      "Columns: [ID, Name, Likes, Rating, Tips]\n",
      "Index: []\n",
      "No data available for id= 55dfa36a498e164ef19bef7b\n",
      "( 3 / 140 ) processed\n",
      "                         ID                  Name  Likes  Rating  Tips\n",
      "0  4c04544df423a593ac83d116  Cumin Indian Cuisine     13     6.0     9\n",
      "( 4 / 140 ) processed\n",
      "                         ID         Name  Likes  Rating  Tips\n",
      "0  551b7f75498e86c00a0ed2e1  Hungry Bird      8     6.8     3\n",
      "( 5 / 140 ) processed\n",
      "                         ID                         Name  Likes  Rating  Tips\n",
      "0  4c194631838020a13e78e561  Melanies Roti Bar And Grill      3     6.0     2\n",
      "( 6 / 140 ) processed\n",
      "                         ID       Name  Likes  Rating  Tips\n",
      "0  4b5a4dc8f964a520a2bb28e3  Taj Mahal     38     8.0    26\n",
      "( 7 / 140 ) processed\n",
      "                         ID          Name  Likes  Rating  Tips\n",
      "0  545835a1498e820edc6f636f  Bombay Grill     14     7.1     4\n",
      "( 8 / 140 ) processed\n",
      "                         ID          Name  Likes  Rating  Tips\n",
      "0  4af0d31bf964a5207ddf21e3  Pak Nasheman      9     7.5     4\n",
      "( 9 / 140 ) processed\n",
      "                         ID          Name  Likes  Rating  Tips\n",
      "0  52213c4211d295d4c57a607c  Ashoka Grill      8     7.1    14\n",
      "( 10 / 140 ) processed\n",
      "                         ID                Name  Likes  Rating  Tips\n",
      "0  564d283d498e6e851df79d87  Great Indian Curry      3     6.9     2\n",
      "( 11 / 140 ) processed\n",
      "                         ID          Name  Likes  Rating  Tips\n",
      "0  512a9ea9e4b004fb8eeb84e5  Silver Krust     13     8.3     3\n",
      "( 12 / 140 ) processed\n",
      "                         ID       Name  Likes  Rating  Tips\n",
      "0  4db0f4371e729fcc56497f20  Mashallah     20     7.8     7\n",
      "( 13 / 140 ) processed\n",
      "                         ID                          Name  Likes  Rating  Tips\n",
      "0  4b718914f964a520c04b2de3  Madina Restaurant and Sweets     17     6.7    12\n",
      "( 14 / 140 ) processed\n",
      "                         ID         Name  Likes  Rating  Tips\n",
      "0  592e1dae345cbe0fc77cf6c9  Diwan Grill     16     8.7     5\n",
      "( 15 / 140 ) processed\n",
      "                         ID         Name  Likes  Rating  Tips\n",
      "0  57596dad498e732300496b23  Dosa Royale     76     8.8    22\n",
      "( 16 / 140 ) processed\n",
      "                         ID         Name  Likes  Rating  Tips\n",
      "0  57596dad498e732300496b23  Dosa Royale     76     8.8    22\n",
      "( 17 / 140 ) processed\n",
      "                         ID          Name  Likes  Rating  Tips\n",
      "0  543870ec498ec64de510608d  Masala Grill     39     8.0    14\n",
      "( 18 / 140 ) processed\n",
      "                         ID                        Name  Likes  Rating  Tips\n",
      "0  4bb93b70cf2fc9b6fe64a002  Gandhi Fine Indian Cuisine     82     8.7    47\n",
      "( 19 / 140 ) processed\n",
      "                         ID             Name  Likes  Rating  Tips\n",
      "0  5539753f498edbace4746b67  Tandoori Masala     12     7.9     2\n",
      "( 20 / 140 ) processed\n",
      "                         ID           Name  Likes  Rating  Tips\n",
      "0  4f6cae2ee4b0d4a5afcef5c0  Delhi Heights     22     8.1     8\n",
      "( 21 / 140 ) processed\n",
      "                         ID                     Name  Likes  Rating  Tips\n",
      "0  519ff6c8498e1300ddcbd45c  Anarkali Indian Cuisine     14     7.7     8\n",
      "( 22 / 140 ) processed\n",
      "                         ID       Name  Likes  Rating  Tips\n",
      "0  4db0f4371e729fcc56497f20  Mashallah     20     7.8     7\n",
      "( 23 / 140 ) processed\n",
      "                         ID                Name  Likes  Rating  Tips\n",
      "0  5631511b498e3d6d7e0a4df0  Tikka Indian Grill     95     8.4    29\n",
      "( 24 / 140 ) processed\n",
      "                         ID          Name  Likes  Rating  Tips\n",
      "0  545835a1498e820edc6f636f  Bombay Grill     14     7.1     4\n",
      "( 25 / 140 ) processed\n",
      "                         ID                      Name  Likes  Rating  Tips\n",
      "0  4ae7876ef964a5201eac21e3  Kismat Indian Restaurant     45     8.0    25\n",
      "( 26 / 140 ) processed\n",
      "                         ID                           Name  Likes  Rating  \\\n",
      "0  54c2bd96498eaf5142e3fe92  Clove Indian Restaurant & Bar     32     7.8   \n",
      "\n",
      "   Tips  \n",
      "0    17  \n",
      "( 27 / 140 ) processed\n",
      "                         ID           Name  Likes  Rating  Tips\n",
      "0  5914ff32b23dfa207eca38de  Mumbai Masala     14     7.2     7\n",
      "( 28 / 140 ) processed\n",
      "                         ID                 Name  Likes  Rating  Tips\n",
      "0  529d382a11d2dd5ef107e641  Chapati House - NYC     73     7.7    18\n",
      "( 29 / 140 ) processed\n",
      "                         ID                           Name  Likes  Rating  \\\n",
      "0  54c2bd96498eaf5142e3fe92  Clove Indian Restaurant & Bar     32     7.8   \n",
      "\n",
      "   Tips  \n",
      "0    17  \n",
      "( 30 / 140 ) processed\n",
      "                         ID          Name  Likes  Rating  Tips\n",
      "0  56d87f3d498ee215abee5724  Delhi Masala     13     8.2     3\n",
      "( 31 / 140 ) processed\n",
      "                         ID                           Name  Likes  Rating  \\\n",
      "0  54c2bd96498eaf5142e3fe92  Clove Indian Restaurant & Bar     32     7.8   \n",
      "\n",
      "   Tips  \n",
      "0    17  \n",
      "( 32 / 140 ) processed\n",
      "                         ID      Name  Likes  Rating  Tips\n",
      "0  519fe6f5498e30595d370c44  Bawarchi      9     7.6     4\n",
      "( 33 / 140 ) processed\n",
      "                         ID            Name  Likes  Rating  Tips\n",
      "0  5272ca4511d22488f6895caf  Drunken Munkey    208     8.4    61\n",
      "( 34 / 140 ) processed\n",
      "                         ID                    Name  Likes  Rating  Tips\n",
      "0  56ed855a498ef3bb022352c3  Mughlai Indian Cuisine     27     8.0     9\n",
      "( 35 / 140 ) processed\n",
      "                         ID              Name  Likes  Rating  Tips\n",
      "0  4fe4fb50c2eee335e4fea69d  Moti Mahal Delux    186     8.5    83\n",
      "( 36 / 140 ) processed\n",
      "                         ID    Name  Likes  Rating  Tips\n",
      "0  42489a80f964a5208b201fe3  Swagat    106     8.5    39\n",
      "( 37 / 140 ) processed\n",
      "                         ID       Name  Likes  Rating  Tips\n",
      "0  5953e40462420b044e8989f4  indikitch     62     7.9     3\n",
      "( 38 / 140 ) processed\n",
      "                         ID        Name  Likes  Rating  Tips\n",
      "0  4acf6ed7f964a520a0d320e3  Cafe Spice     14     7.9    15\n",
      "( 39 / 140 ) processed\n",
      "                         ID              Name  Likes  Rating  Tips\n",
      "0  4bbb9dbded7776b0e1ad3e51  Tamarind TriBeCa    590     8.6   148\n",
      "( 40 / 140 ) processed\n",
      "                         ID  Name  Likes  Rating  Tips\n",
      "0  591794df2be42556988e4a8e  Rahi    115     8.7    24\n",
      "( 41 / 140 ) processed\n",
      "                         ID              Name  Likes  Rating  Tips\n",
      "0  424de080f964a520ae201fe3  Manhattan Valley     42     8.1    30\n",
      "( 42 / 140 ) processed\n",
      "                         ID   Name  Likes  Rating  Tips\n",
      "0  538ba1f2498e279098e4210a  Awadh     51     8.1    13\n",
      "( 43 / 140 ) processed\n",
      "                         ID       Name  Likes  Rating  Tips\n",
      "0  49c5ad0af964a5201b571fe3  Roti Roll    114     7.6    58\n",
      "( 44 / 140 ) processed\n",
      "                         ID       Name  Likes  Rating  Tips\n",
      "0  49c5ad0af964a5201b571fe3  Roti Roll    114     7.6    58\n",
      "( 45 / 140 ) processed\n",
      "                         ID                 Name  Likes  Rating  Tips\n",
      "0  4a70a75bf964a52016d81fe3  Bhatti Indian Grill    424     8.7   161\n",
      "( 46 / 140 ) processed\n",
      "                         ID   Name  Likes  Rating  Tips\n",
      "0  57f7cbbe498edf8f07c7ba83  Sahib     60     8.6    13\n",
      "( 47 / 140 ) processed\n",
      "                         ID   Name  Likes  Rating  Tips\n",
      "0  4a12eb1ff964a52099771fe3  Dhaba    497     8.3   164\n",
      "( 48 / 140 ) processed\n",
      "                         ID         Name  Likes  Rating  Tips\n",
      "0  4fcf82f54fc6ada5874da997  Chote Nawab    215     8.3    70\n",
      "( 49 / 140 ) processed\n",
      "                         ID                           Name  Likes  Rating  \\\n",
      "0  4fa5ee76c2eea504a46a9022  Desi Galli - Lexington Avenue    135     8.0   \n",
      "\n",
      "   Tips  \n",
      "0    56  \n",
      "( 50 / 140 ) processed\n"
     ]
    },
    {
     "ename": "KeyError",
     "evalue": "'venue'",
     "output_type": "error",
     "traceback": [
      "\u001b[0;31m---------------------------------------------------------------------------\u001b[0m",
      "\u001b[0;31mKeyError\u001b[0m                                  Traceback (most recent call last)",
      "\u001b[0;32m<ipython-input-24-b306a7a2700c>\u001b[0m in \u001b[0;36m<module>\u001b[0;34m\u001b[0m\n\u001b[1;32m      7\u001b[0m     \u001b[0mBorough\u001b[0m\u001b[0;34m,\u001b[0m\u001b[0mNeighborhood\u001b[0m\u001b[0;34m,\u001b[0m\u001b[0mID\u001b[0m\u001b[0;34m,\u001b[0m\u001b[0mName\u001b[0m\u001b[0;34m=\u001b[0m\u001b[0mrow\u001b[0m\u001b[0;34m\u001b[0m\u001b[0;34m\u001b[0m\u001b[0m\n\u001b[1;32m      8\u001b[0m     \u001b[0;32mtry\u001b[0m\u001b[0;34m:\u001b[0m\u001b[0;34m\u001b[0m\u001b[0;34m\u001b[0m\u001b[0m\n\u001b[0;32m----> 9\u001b[0;31m         \u001b[0mvenue_details\u001b[0m\u001b[0;34m=\u001b[0m\u001b[0mget_venue_details\u001b[0m\u001b[0;34m(\u001b[0m\u001b[0mID\u001b[0m\u001b[0;34m)\u001b[0m\u001b[0;34m\u001b[0m\u001b[0;34m\u001b[0m\u001b[0m\n\u001b[0m\u001b[1;32m     10\u001b[0m         \u001b[0mprint\u001b[0m\u001b[0;34m(\u001b[0m\u001b[0mvenue_details\u001b[0m\u001b[0;34m)\u001b[0m\u001b[0;34m\u001b[0m\u001b[0;34m\u001b[0m\u001b[0m\n\u001b[1;32m     11\u001b[0m         \u001b[0mid\u001b[0m\u001b[0;34m,\u001b[0m\u001b[0mname\u001b[0m\u001b[0;34m,\u001b[0m\u001b[0mlikes\u001b[0m\u001b[0;34m,\u001b[0m\u001b[0mrating\u001b[0m\u001b[0;34m,\u001b[0m\u001b[0mtips\u001b[0m\u001b[0;34m=\u001b[0m\u001b[0mvenue_details\u001b[0m\u001b[0;34m.\u001b[0m\u001b[0mvalues\u001b[0m\u001b[0;34m.\u001b[0m\u001b[0mtolist\u001b[0m\u001b[0;34m(\u001b[0m\u001b[0;34m)\u001b[0m\u001b[0;34m[\u001b[0m\u001b[0;36m0\u001b[0m\u001b[0;34m]\u001b[0m\u001b[0;34m\u001b[0m\u001b[0;34m\u001b[0m\u001b[0m\n",
      "\u001b[0;32m<ipython-input-14-68a1e7cad68e>\u001b[0m in \u001b[0;36mget_venue_details\u001b[0;34m(venue_id)\u001b[0m\n\u001b[1;32m     38\u001b[0m \u001b[0;34m\u001b[0m\u001b[0m\n\u001b[1;32m     39\u001b[0m     \u001b[0mresults\u001b[0m \u001b[0;34m=\u001b[0m \u001b[0mrequests\u001b[0m\u001b[0;34m.\u001b[0m\u001b[0mget\u001b[0m\u001b[0;34m(\u001b[0m\u001b[0murl\u001b[0m\u001b[0;34m)\u001b[0m\u001b[0;34m.\u001b[0m\u001b[0mjson\u001b[0m\u001b[0;34m(\u001b[0m\u001b[0;34m)\u001b[0m\u001b[0;34m\u001b[0m\u001b[0;34m\u001b[0m\u001b[0m\n\u001b[0;32m---> 40\u001b[0;31m     \u001b[0mvenue_data\u001b[0m\u001b[0;34m=\u001b[0m\u001b[0mresults\u001b[0m\u001b[0;34m[\u001b[0m\u001b[0;34m'response'\u001b[0m\u001b[0;34m]\u001b[0m\u001b[0;34m[\u001b[0m\u001b[0;34m'venue'\u001b[0m\u001b[0;34m]\u001b[0m\u001b[0;34m\u001b[0m\u001b[0;34m\u001b[0m\u001b[0m\n\u001b[0m\u001b[1;32m     41\u001b[0m     \u001b[0mvenue_details\u001b[0m\u001b[0;34m=\u001b[0m\u001b[0;34m[\u001b[0m\u001b[0;34m]\u001b[0m\u001b[0;34m\u001b[0m\u001b[0;34m\u001b[0m\u001b[0m\n\u001b[1;32m     42\u001b[0m     \u001b[0;32mtry\u001b[0m\u001b[0;34m:\u001b[0m\u001b[0;34m\u001b[0m\u001b[0;34m\u001b[0m\u001b[0m\n",
      "\u001b[0;31mKeyError\u001b[0m: 'venue'"
     ]
    }
   ],
   "source": [
    "# preparing neighborhood list of indian resturants\n",
    "column_names=['Borough', 'Neighborhood', 'ID','Name','Likes','Rating','Tips']\n",
    "indian_rest_stats_ny=pd.DataFrame(columns=column_names)\n",
    "count=1\n",
    "\n",
    "for row in indian_rest_ny.values.tolist():\n",
    "    Borough,Neighborhood,ID,Name=row\n",
    "    try:\n",
    "        venue_details=get_venue_details(ID)\n",
    "        print(venue_details)\n",
    "        id,name,likes,rating,tips=venue_details.values.tolist()[0]\n",
    "    except IndexError:\n",
    "        print('No data available for id=',ID)\n",
    "        id,name,likes,rating,tips=[0]*5\n",
    "    print('(',count,'/',len(indian_rest_ny),')','processed')\n",
    "    indian_rest_stats_ny = indian_rest_stats_ny.append({'Borough': Borough,\n",
    "                                                'Neighborhood': Neighborhood, \n",
    "                                                'ID': id,\n",
    "                                                'Name' : name,\n",
    "                                                'Likes' : likes,\n",
    "                                                'Rating' : rating,\n",
    "                                                'Tips' : tips\n",
    "                                               }, ignore_index=True)\n",
    "    count+=1"
   ]
  },
  {
   "cell_type": "markdown",
   "metadata": {},
   "source": [
    "Data Cleaning for data integrity"
   ]
  },
  {
   "cell_type": "code",
   "execution_count": 25,
   "metadata": {},
   "outputs": [
    {
     "name": "stdout",
     "output_type": "stream",
     "text": [
      "<class 'pandas.core.frame.DataFrame'>\n",
      "RangeIndex: 50 entries, 0 to 49\n",
      "Data columns (total 7 columns):\n",
      "Borough         50 non-null object\n",
      "Neighborhood    50 non-null object\n",
      "ID              50 non-null object\n",
      "Name            50 non-null object\n",
      "Likes           50 non-null float64\n",
      "Rating          50 non-null float64\n",
      "Tips            50 non-null float64\n",
      "dtypes: float64(3), object(4)\n",
      "memory usage: 2.9+ KB\n"
     ]
    }
   ],
   "source": [
    "convert_types = { 'Likes': float, 'Tips': float }\n",
    "indian_rest_stats_ny = indian_rest_stats_ny.astype(convert_types)\n",
    "indian_rest_stats_ny.info()"
   ]
  },
  {
   "cell_type": "code",
   "execution_count": 26,
   "metadata": {},
   "outputs": [
    {
     "data": {
      "text/plain": [
       "Borough                        Manhattan\n",
       "Neighborhood                    Gramercy\n",
       "ID              4a12eb1ff964a52099771fe3\n",
       "Name                               Dhaba\n",
       "Likes                                497\n",
       "Rating                               8.3\n",
       "Tips                                 164\n",
       "Name: 47, dtype: object"
      ]
     },
     "execution_count": 26,
     "metadata": {},
     "output_type": "execute_result"
    }
   ],
   "source": [
    "#Restauranats with most tips\n",
    "indian_rest_stats_ny.iloc[indian_rest_stats_ny['Tips'].idxmax()]"
   ]
  },
  {
   "cell_type": "code",
   "execution_count": 27,
   "metadata": {},
   "outputs": [
    {
     "data": {
      "text/plain": [
       "Borough                        Manhattan\n",
       "Neighborhood                     Tribeca\n",
       "ID              4bbb9dbded7776b0e1ad3e51\n",
       "Name                    Tamarind TriBeCa\n",
       "Likes                                590\n",
       "Rating                               8.6\n",
       "Tips                                 148\n",
       "Name: 39, dtype: object"
      ]
     },
     "execution_count": 27,
     "metadata": {},
     "output_type": "execute_result"
    }
   ],
   "source": [
    "#Restauarants with max likes\n",
    "indian_rest_stats_ny.iloc[indian_rest_stats_ny['Likes'].idxmax()]"
   ]
  },
  {
   "cell_type": "code",
   "execution_count": 28,
   "metadata": {},
   "outputs": [
    {
     "data": {
      "text/plain": [
       "Borough                         Brooklyn\n",
       "Neighborhood                 Fort Greene\n",
       "ID              57596dad498e732300496b23\n",
       "Name                         Dosa Royale\n",
       "Likes                                 76\n",
       "Rating                               8.8\n",
       "Tips                                  22\n",
       "Name: 15, dtype: object"
      ]
     },
     "execution_count": 28,
     "metadata": {},
     "output_type": "execute_result"
    }
   ],
   "source": [
    "#Restauarants with max ratings\n",
    "indian_rest_stats_ny.iloc[indian_rest_stats_ny['Rating'].idxmax()]"
   ]
  },
  {
   "cell_type": "markdown",
   "metadata": {},
   "source": [
    "### Create list of top 10 neighborhood in order of their average rating of restaurants"
   ]
  },
  {
   "cell_type": "code",
   "execution_count": 66,
   "metadata": {},
   "outputs": [],
   "source": [
    "ny_neighborhood_stats=indian_rest_stats_ny.groupby('Neighborhood',as_index=False).mean()[['Neighborhood','Rating']]\n",
    "ny_neighborhood_stats.columns=['Neighborhood','Average Rating']"
   ]
  },
  {
   "cell_type": "code",
   "execution_count": 67,
   "metadata": {},
   "outputs": [
    {
     "data": {
      "text/html": [
       "<div>\n",
       "<style scoped>\n",
       "    .dataframe tbody tr th:only-of-type {\n",
       "        vertical-align: middle;\n",
       "    }\n",
       "\n",
       "    .dataframe tbody tr th {\n",
       "        vertical-align: top;\n",
       "    }\n",
       "\n",
       "    .dataframe thead th {\n",
       "        text-align: right;\n",
       "    }\n",
       "</style>\n",
       "<table border=\"1\" class=\"dataframe\">\n",
       "  <thead>\n",
       "    <tr style=\"text-align: right;\">\n",
       "      <th></th>\n",
       "      <th>Neighborhood</th>\n",
       "      <th>Average Rating</th>\n",
       "    </tr>\n",
       "  </thead>\n",
       "  <tbody>\n",
       "    <tr>\n",
       "      <td>9</td>\n",
       "      <td>Fort Greene</td>\n",
       "      <td>8.80</td>\n",
       "    </tr>\n",
       "    <tr>\n",
       "      <td>3</td>\n",
       "      <td>Clinton Hill</td>\n",
       "      <td>8.80</td>\n",
       "    </tr>\n",
       "    <tr>\n",
       "      <td>20</td>\n",
       "      <td>Prospect Heights</td>\n",
       "      <td>8.70</td>\n",
       "    </tr>\n",
       "    <tr>\n",
       "      <td>21</td>\n",
       "      <td>Prospect Lefferts Gardens</td>\n",
       "      <td>8.70</td>\n",
       "    </tr>\n",
       "    <tr>\n",
       "      <td>30</td>\n",
       "      <td>West Village</td>\n",
       "      <td>8.70</td>\n",
       "    </tr>\n",
       "    <tr>\n",
       "      <td>26</td>\n",
       "      <td>Tribeca</td>\n",
       "      <td>8.60</td>\n",
       "    </tr>\n",
       "    <tr>\n",
       "      <td>23</td>\n",
       "      <td>Roosevelt Island</td>\n",
       "      <td>8.50</td>\n",
       "    </tr>\n",
       "    <tr>\n",
       "      <td>28</td>\n",
       "      <td>Upper West Side</td>\n",
       "      <td>8.50</td>\n",
       "    </tr>\n",
       "    <tr>\n",
       "      <td>24</td>\n",
       "      <td>South Side</td>\n",
       "      <td>8.40</td>\n",
       "    </tr>\n",
       "    <tr>\n",
       "      <td>11</td>\n",
       "      <td>Gramercy</td>\n",
       "      <td>8.38</td>\n",
       "    </tr>\n",
       "  </tbody>\n",
       "</table>\n",
       "</div>"
      ],
      "text/plain": [
       "                 Neighborhood  Average Rating\n",
       "9                 Fort Greene            8.80\n",
       "3                Clinton Hill            8.80\n",
       "20           Prospect Heights            8.70\n",
       "21  Prospect Lefferts Gardens            8.70\n",
       "30               West Village            8.70\n",
       "26                    Tribeca            8.60\n",
       "23           Roosevelt Island            8.50\n",
       "28            Upper West Side            8.50\n",
       "24                 South Side            8.40\n",
       "11                   Gramercy            8.38"
      ]
     },
     "execution_count": 67,
     "metadata": {},
     "output_type": "execute_result"
    }
   ],
   "source": [
    "ny_neighborhood_stats.sort_values(['Average Rating'],ascending=False).head(10)"
   ]
  },
  {
   "cell_type": "markdown",
   "metadata": {},
   "source": [
    "### Average rating of Indian Resturants for each Borough"
   ]
  },
  {
   "cell_type": "code",
   "execution_count": 38,
   "metadata": {},
   "outputs": [],
   "source": [
    "ny_borough_stats=indian_rest_stats_ny.groupby('Borough',as_index=False).mean()[['Borough','Rating']]\n",
    "ny_borough_stats.columns=['Borough','Average Rating']"
   ]
  },
  {
   "cell_type": "code",
   "execution_count": 58,
   "metadata": {},
   "outputs": [
    {
     "data": {
      "text/html": [
       "<div>\n",
       "<style scoped>\n",
       "    .dataframe tbody tr th:only-of-type {\n",
       "        vertical-align: middle;\n",
       "    }\n",
       "\n",
       "    .dataframe tbody tr th {\n",
       "        vertical-align: top;\n",
       "    }\n",
       "\n",
       "    .dataframe thead th {\n",
       "        text-align: right;\n",
       "    }\n",
       "</style>\n",
       "<table border=\"1\" class=\"dataframe\">\n",
       "  <thead>\n",
       "    <tr style=\"text-align: right;\">\n",
       "      <th></th>\n",
       "      <th>Borough</th>\n",
       "      <th>Average Rating</th>\n",
       "    </tr>\n",
       "  </thead>\n",
       "  <tbody>\n",
       "    <tr>\n",
       "      <td>2</td>\n",
       "      <td>Manhattan</td>\n",
       "      <td>8.076000</td>\n",
       "    </tr>\n",
       "    <tr>\n",
       "      <td>1</td>\n",
       "      <td>Brooklyn</td>\n",
       "      <td>7.863158</td>\n",
       "    </tr>\n",
       "    <tr>\n",
       "      <td>0</td>\n",
       "      <td>Bronx</td>\n",
       "      <td>5.433333</td>\n",
       "    </tr>\n",
       "  </tbody>\n",
       "</table>\n",
       "</div>"
      ],
      "text/plain": [
       "     Borough  Average Rating\n",
       "2  Manhattan        8.076000\n",
       "1   Brooklyn        7.863158\n",
       "0      Bronx        5.433333"
      ]
     },
     "execution_count": 58,
     "metadata": {},
     "output_type": "execute_result"
    }
   ],
   "source": [
    "ny_borough_stats.sort_values(['Average Rating'],ascending=False).head()"
   ]
  },
  {
   "cell_type": "code",
   "execution_count": 59,
   "metadata": {},
   "outputs": [
    {
     "data": {
      "image/png": "[encoded data removed]",
      "text/plain": [
       "<Figure size 720x360 with 1 Axes>"
      ]
     },
     "metadata": {
      "needs_background": "light"
     },
     "output_type": "display_data"
    }
   ],
   "source": [
    "indian_rest_stats_ny.groupby('Borough').mean()['Rating'].plot.bar(figsize=(10,5))\n",
    "plt.title('Average rating of Indian Resturants for each Borough', fontsize=20)\n",
    "plt.xlabel('Borough', fontsize = 15)\n",
    "plt.ylabel('Average Rating', fontsize=15)\n",
    "plt.xticks(rotation = 'horizontal')\n",
    "plt.show()"
   ]
  },
  {
   "cell_type": "markdown",
   "metadata": {},
   "source": [
    "### List of neighborhoods with average rating of >=7 for Indian cuisine"
   ]
  },
  {
   "cell_type": "code",
   "execution_count": 68,
   "metadata": {},
   "outputs": [],
   "source": [
    "ny_neighborhood_stats=ny_neighborhood_stats[ny_neighborhood_stats['Average Rating']>=8.0]"
   ]
  },
  {
   "cell_type": "code",
   "execution_count": 69,
   "metadata": {},
   "outputs": [
    {
     "data": {
      "text/html": [
       "<div>\n",
       "<style scoped>\n",
       "    .dataframe tbody tr th:only-of-type {\n",
       "        vertical-align: middle;\n",
       "    }\n",
       "\n",
       "    .dataframe tbody tr th {\n",
       "        vertical-align: top;\n",
       "    }\n",
       "\n",
       "    .dataframe thead th {\n",
       "        text-align: right;\n",
       "    }\n",
       "</style>\n",
       "<table border=\"1\" class=\"dataframe\">\n",
       "  <thead>\n",
       "    <tr style=\"text-align: right;\">\n",
       "      <th></th>\n",
       "      <th>Neighborhood</th>\n",
       "      <th>Average Rating</th>\n",
       "    </tr>\n",
       "  </thead>\n",
       "  <tbody>\n",
       "    <tr>\n",
       "      <td>2</td>\n",
       "      <td>Central Harlem</td>\n",
       "      <td>8.00</td>\n",
       "    </tr>\n",
       "    <tr>\n",
       "      <td>3</td>\n",
       "      <td>Clinton Hill</td>\n",
       "      <td>8.80</td>\n",
       "    </tr>\n",
       "    <tr>\n",
       "      <td>5</td>\n",
       "      <td>Downtown</td>\n",
       "      <td>8.00</td>\n",
       "    </tr>\n",
       "    <tr>\n",
       "      <td>6</td>\n",
       "      <td>East Flatbush</td>\n",
       "      <td>8.30</td>\n",
       "    </tr>\n",
       "    <tr>\n",
       "      <td>9</td>\n",
       "      <td>Fort Greene</td>\n",
       "      <td>8.80</td>\n",
       "    </tr>\n",
       "    <tr>\n",
       "      <td>11</td>\n",
       "      <td>Gramercy</td>\n",
       "      <td>8.38</td>\n",
       "    </tr>\n",
       "    <tr>\n",
       "      <td>18</td>\n",
       "      <td>Ocean Hill</td>\n",
       "      <td>8.00</td>\n",
       "    </tr>\n",
       "    <tr>\n",
       "      <td>20</td>\n",
       "      <td>Prospect Heights</td>\n",
       "      <td>8.70</td>\n",
       "    </tr>\n",
       "    <tr>\n",
       "      <td>21</td>\n",
       "      <td>Prospect Lefferts Gardens</td>\n",
       "      <td>8.70</td>\n",
       "    </tr>\n",
       "    <tr>\n",
       "      <td>23</td>\n",
       "      <td>Roosevelt Island</td>\n",
       "      <td>8.50</td>\n",
       "    </tr>\n",
       "    <tr>\n",
       "      <td>24</td>\n",
       "      <td>South Side</td>\n",
       "      <td>8.40</td>\n",
       "    </tr>\n",
       "    <tr>\n",
       "      <td>26</td>\n",
       "      <td>Tribeca</td>\n",
       "      <td>8.60</td>\n",
       "    </tr>\n",
       "    <tr>\n",
       "      <td>28</td>\n",
       "      <td>Upper West Side</td>\n",
       "      <td>8.50</td>\n",
       "    </tr>\n",
       "    <tr>\n",
       "      <td>29</td>\n",
       "      <td>Washington Heights</td>\n",
       "      <td>8.00</td>\n",
       "    </tr>\n",
       "    <tr>\n",
       "      <td>30</td>\n",
       "      <td>West Village</td>\n",
       "      <td>8.70</td>\n",
       "    </tr>\n",
       "    <tr>\n",
       "      <td>32</td>\n",
       "      <td>Yorkville</td>\n",
       "      <td>8.20</td>\n",
       "    </tr>\n",
       "  </tbody>\n",
       "</table>\n",
       "</div>"
      ],
      "text/plain": [
       "                 Neighborhood  Average Rating\n",
       "2              Central Harlem            8.00\n",
       "3                Clinton Hill            8.80\n",
       "5                    Downtown            8.00\n",
       "6               East Flatbush            8.30\n",
       "9                 Fort Greene            8.80\n",
       "11                   Gramercy            8.38\n",
       "18                 Ocean Hill            8.00\n",
       "20           Prospect Heights            8.70\n",
       "21  Prospect Lefferts Gardens            8.70\n",
       "23           Roosevelt Island            8.50\n",
       "24                 South Side            8.40\n",
       "26                    Tribeca            8.60\n",
       "28            Upper West Side            8.50\n",
       "29         Washington Heights            8.00\n",
       "30               West Village            8.70\n",
       "32                  Yorkville            8.20"
      ]
     },
     "execution_count": 69,
     "metadata": {},
     "output_type": "execute_result"
    }
   ],
   "source": [
    "ny_neighborhood_stats"
   ]
  },
  {
   "cell_type": "code",
   "execution_count": 71,
   "metadata": {},
   "outputs": [],
   "source": [
    "ny_neighborhood_stats=pd.merge(ny_neighborhood_stats,ny_data, on='Neighborhood')"
   ]
  },
  {
   "cell_type": "code",
   "execution_count": 72,
   "metadata": {},
   "outputs": [],
   "source": [
    "ny_neighborhood_stats=ny_neighborhood_stats[['Borough','Neighborhood','Latitude','Longitude','Average Rating']]"
   ]
  },
  {
   "cell_type": "markdown",
   "metadata": {},
   "source": [
    "### Mapping the restaurants for better visualtisation using folium map"
   ]
  },
  {
   "cell_type": "code",
   "execution_count": 73,
   "metadata": {},
   "outputs": [],
   "source": [
    "ny_map = folium.Map(location=geo_location('New York'), zoom_start=12)"
   ]
  },
  {
   "cell_type": "code",
   "execution_count": 74,
   "metadata": {},
   "outputs": [],
   "source": [
    "incidents = folium.map.FeatureGroup()\n",
    "\n",
    "for lat, lng, in ny_neighborhood_stats[['Latitude','Longitude']].values:\n",
    "    incidents.add_child(\n",
    "        folium.CircleMarker(\n",
    "            [lat, lng],\n",
    "            radius=10, # define how big you want the circle markers to be\n",
    "            color='#EA1253',\n",
    "            fill=True,\n",
    "            fill_color='#12EA92',\n",
    "            fill_opacity=0.4\n",
    "        )\n",
    "    )"
   ]
  },
  {
   "cell_type": "code",
   "execution_count": 75,
   "metadata": {},
   "outputs": [],
   "source": [
    "ny_neighborhood_stats['Label']=ny_neighborhood_stats['Neighborhood']+', '+ny_neighborhood_stats['Borough']+'('+ny_neighborhood_stats['Average Rating'].map(str)+')'"
   ]
  },
  {
   "cell_type": "code",
   "execution_count": 76,
   "metadata": {},
   "outputs": [
    {
     "data": {
      "text/html": [
       "<div style=\"width:100%;\"><div style=\"position:relative;width:100%;height:0;padding-bottom:60%;\"><iframe src=\"about:blank\" style=\"position:absolute;width:100%;height:100%;left:0;top:0;border:none !important;\" data-html=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 onload=\"this.contentDocument.open();this.contentDocument.write(atob(this.getAttribute('data-html')));this.contentDocument.close();\" allowfullscreen webkitallowfullscreen mozallowfullscreen></iframe></div></div>"
      ],
      "text/plain": [
       "<folium.folium.Map at 0x122901410>"
      ]
     },
     "execution_count": 76,
     "metadata": {},
     "output_type": "execute_result"
    }
   ],
   "source": [
    "# add pop-up text to each marker on the map\n",
    "for lat, lng, label in ny_neighborhood_stats[['Latitude','Longitude','Label']].values:\n",
    "    folium.Marker([lat, lng], popup=label).add_to(ny_map)        \n",
    "# add incidents to map\n",
    "ny_map.add_child(incidents)"
   ]
  },
  {
   "cell_type": "markdown",
   "metadata": {},
   "source": [
    "## 4. Results and Discussions"
   ]
  },
  {
   "cell_type": "markdown",
   "metadata": {},
   "source": [
    "From the above analysis, we have observe following:\n",
    " - Maximum number of restauants per Borough are in the Queens, followed by those in Brooklyn.\n",
    " - There are highest number of Indian restuarants in the neighorhood of Floral Park.\n",
    " - Queens has maximum number of Indian restuarnts among all Boroughs.\n",
    " - Indian restuarant with highest tips and likes are in Manhattan.\n",
    " - Staten Island ranks last in average rating of Indian Resturants.\n",
    " - Map clearly shows all the Indian restuarants located in NYC.\n",
    " \n",
    "Manhattan has the highest potential of Indian cuisine market. There is scope of improving ratings of Indian Restauarnts in Bronx and Staten Island. "
   ]
  },
  {
   "cell_type": "markdown",
   "metadata": {},
   "source": [
    "## 5. Conclusion"
   ]
  },
  {
   "cell_type": "markdown",
   "metadata": {},
   "source": [
    "We can easily fing that NYC has several number of Indian restauarant present in each corner of the neighourhood. Queen and Brooklyn have highest number of Indian cuisine serving places. But as far as ratings are concerned, Manhattan has higher potential for Indian cuisine. Staten Island ranks last in average rating of Indian Resturants.\n",
    "Since the analysis is performed on limited data, there might be deligency in the accuracy.But if larger set of data can be analysed, there will be better scope of improvement ."
   ]
  },
  {
   "cell_type": "code",
   "execution_count": null,
   "metadata": {},
   "outputs": [],
   "source": []
  }
 ],
 "metadata": {
  "kernelspec": {
   "display_name": "Python 3",
   "language": "python",
   "name": "python3"
  },
  "language_info": {
   "codemirror_mode": {
    "name": "ipython",
    "version": 3
   },
   "file_extension": ".py",
   "mimetype": "text/x-python",
   "name": "python",
   "nbconvert_exporter": "python",
   "pygments_lexer": "ipython3",
   "version": "3.7.4"
  }
 },
 "nbformat": 4,
 "nbformat_minor": 2
}
